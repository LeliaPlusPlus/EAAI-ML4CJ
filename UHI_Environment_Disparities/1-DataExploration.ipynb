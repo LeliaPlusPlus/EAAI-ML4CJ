{
 "cells": [
  {
   "cell_type": "markdown",
   "id": "7584cfcd-ef8b-4be7-aad5-cd0601fa2c77",
   "metadata": {},
   "source": [
    "# Data Exploration\n",
    "\n",
    "The goal of this portion of the assignment is to dive into our data to better understand potential patterns. Data exploration may be represented as graphs and tables. "
   ]
  },
  {
   "cell_type": "code",
   "execution_count": null,
   "id": "e19acc2c-c1cc-4bf2-b85c-cf21251afbfc",
   "metadata": {},
   "outputs": [],
   "source": [
    "import pandas as pd\n",
    "import numpy as np\n",
    "import matplotlib.pyplot as plt\n",
    "import seaborn as sns\n",
    "\n",
    "pd.set_option('display.max_columns', None)\n",
    "pd.set_option('display.max_rows', None)"
   ]
  },
  {
   "cell_type": "markdown",
   "id": "8b4e9c1e-6d05-44b1-8fef-11355345a6bd",
   "metadata": {},
   "source": [
    "## Import the Data"
   ]
  },
  {
   "cell_type": "code",
   "execution_count": null,
   "id": "77d43b94-9eea-4771-a019-1c1f8a1524aa",
   "metadata": {},
   "outputs": [],
   "source": [
    "cols = ['County', 'State', 'Black', 'Hispanic', 'White', 'Below Poverty', \n",
    "        'Population Density', 'BSA', \n",
    "        'NDBI', 'NDVI', 'Spatial Lag', 'UHI', 'Is low income?']\n",
    "data = pd.read_csv('data.csv', usecols=cols)"
   ]
  },
  {
   "cell_type": "markdown",
   "id": "d8a87ca3-979e-401c-8476-69347405316e",
   "metadata": {},
   "source": [
    "## Descriptive Statistics\n",
    "\n",
    "Get an understanding of the central tendencies in your data. You can use the pandas library."
   ]
  },
  {
   "cell_type": "code",
   "execution_count": null,
   "id": "5af0f9e7-d8ef-4e61-b74b-6210d5623973",
   "metadata": {},
   "outputs": [],
   "source": []
  },
  {
   "cell_type": "markdown",
   "id": "0ffb6621-20f7-4712-8742-bc6e3c65a041",
   "metadata": {},
   "source": [
    "## Probability Density Estimation\n",
    "\n",
    "Probability density estimation is a great tool to understand the distribution of variables the in lieu of histograms, which require discrete bins.\n",
    "\n",
    "Use the kdeplot function from the seaborn library to compute your probability density estimation. You can format your plot with the matplotlib package."
   ]
  },
  {
   "cell_type": "code",
   "execution_count": null,
   "id": "cc4ac598-d0f5-4919-ae1d-dade7094a279",
   "metadata": {},
   "outputs": [],
   "source": []
  },
  {
   "cell_type": "markdown",
   "id": "083ecdfb-3571-422b-8101-232d66116242",
   "metadata": {},
   "source": [
    "### Discussion: Probability Density Estimation\n",
    "What do the distributions reveal about race, socioeconomic status, environmental factors, and SUHII? How does this compare to the research discussed in the introduction? Compare the descriptive statistics and distributions."
   ]
  },
  {
   "cell_type": "markdown",
   "id": "b2003b45-35ba-40a3-a854-eeeafea7c6b5",
   "metadata": {},
   "source": [
    "**Answer:** "
   ]
  },
  {
   "cell_type": "markdown",
   "id": "a739e86b-2d3e-4150-9bee-444ebe868ffa",
   "metadata": {},
   "source": [
    "## Spearman Correlation Analysis\n",
    "\n",
    "Spearman correlation analysis is a method to understand if two variables are monotonically increasing or decreasing together. Make sure you research the range of Spearman correlation and what it means. Why might Spearman correlation be more useful than Pearson given our dataset?\n",
    "\n",
    "You can directly calculate Spearman correlation coefficients with the pandas library."
   ]
  },
  {
   "cell_type": "code",
   "execution_count": null,
   "id": "07d6813f-cc2f-4da8-be3b-add4bbc340c4",
   "metadata": {},
   "outputs": [],
   "source": []
  },
  {
   "cell_type": "markdown",
   "id": "d8b2a0ac-c4e6-49f0-b7b8-458835c5a172",
   "metadata": {},
   "source": [
    "### Discussion: Spearman Correlation Analysis\n",
    "How does race and poverty correlate with environmental factors and SUHI? Which variables are most correlated with SUHI? How does this compare to the research discussed in the introduction? Describe any other interesting correlations."
   ]
  },
  {
   "cell_type": "markdown",
   "id": "b5047f7a-3d28-481b-812b-073cc8559cd2",
   "metadata": {},
   "source": [
    "**Answer:** "
   ]
  },
  {
   "cell_type": "markdown",
   "id": "e294349b-39b9-44a2-984b-f5b0b5d51aa7",
   "metadata": {},
   "source": [
    "## Data Dissection\n",
    "Divide the data using the low income indicator, race bins (e.g., 0-20%, 20-40%,...,80-100%), and environmental bins. Find the average SUHII for each bin."
   ]
  },
  {
   "cell_type": "code",
   "execution_count": null,
   "id": "60dd96af-90aa-495e-914b-e1795937667a",
   "metadata": {},
   "outputs": [],
   "source": []
  },
  {
   "cell_type": "markdown",
   "id": "132c76d7-1ba0-4bdd-a618-76c65091e4fe",
   "metadata": {},
   "source": [
    "### Discussion: Data Dissection\n",
    "\n",
    "Is there a monotonic pattern? Count how much of the data falls into each bin. Feel free to use kernel density estimates as a tool to examine the different groups as well. Communicate your results."
   ]
  },
  {
   "cell_type": "markdown",
   "id": "4ae6da75-2d13-4eb6-9b9a-cbcf062a3107",
   "metadata": {},
   "source": [
    "**Answer:** "
   ]
  },
  {
   "cell_type": "markdown",
   "id": "3bcffdd4-50a8-426a-94a1-1a55ee0fdec5",
   "metadata": {},
   "source": [
    "## Regional Examination\n",
    "Compute the county and state average SUHII; county and state weighted average SUHII by race; and county and state weighted average SUHI by race and low income indicator."
   ]
  },
  {
   "cell_type": "code",
   "execution_count": null,
   "id": "bff59678-330d-402d-be48-33b6c758b339",
   "metadata": {},
   "outputs": [],
   "source": []
  },
  {
   "cell_type": "markdown",
   "id": "df15186d-6da0-4626-97a5-808bcfb9f264",
   "metadata": {},
   "source": [
    "### Discussion: Regional Examination\n",
    "\n",
    "Which regions have the highest average SUHII? Which regions have the highest disparities?"
   ]
  },
  {
   "cell_type": "markdown",
   "id": "5c3a9c10-da31-455f-92b2-36874289fccb",
   "metadata": {},
   "source": [
    "**Answer:** "
   ]
  },
  {
   "cell_type": "markdown",
   "id": "b1c54d16-34d6-4316-9351-ca749da2579a",
   "metadata": {},
   "source": [
    "## Freestyle\n",
    "Formulate a question that can be answered through data exploration. Perform 1-2 extra data exploration techniques to answer your question. The seaborn package might provide inspiration. "
   ]
  },
  {
   "cell_type": "code",
   "execution_count": null,
   "id": "136e4399-b8ae-4691-8ae0-67fb1597431f",
   "metadata": {},
   "outputs": [],
   "source": []
  },
  {
   "cell_type": "markdown",
   "id": "8f7ee66a-5fe9-484c-a11f-96a1d2d6da81",
   "metadata": {},
   "source": [
    "### Discussion: Freestyle\n",
    "Discuss why you chose this method to explore the data as well as your findings."
   ]
  },
  {
   "cell_type": "markdown",
   "id": "38922d1c-42f3-4b86-ad75-6f6bc884211c",
   "metadata": {},
   "source": [
    "**Answer:** "
   ]
  },
  {
   "cell_type": "markdown",
   "id": "1b0bd960-51cf-42a6-86fc-21d146192ee6",
   "metadata": {},
   "source": [
    "## Summary\n",
    "\n",
    "Summarize your findings based on the data exploration."
   ]
  },
  {
   "cell_type": "markdown",
   "id": "19bbda07-d4b5-417c-927d-767f718fdadc",
   "metadata": {},
   "source": [
    "**Answer:** "
   ]
  }
 ],
 "metadata": {
  "kernelspec": {
   "display_name": "Python 3",
   "language": "python",
   "name": "python3"
  },
  "language_info": {
   "codemirror_mode": {
    "name": "ipython",
    "version": 3
   },
   "file_extension": ".py",
   "mimetype": "text/x-python",
   "name": "python",
   "nbconvert_exporter": "python",
   "pygments_lexer": "ipython3",
   "version": "3.8.8"
  }
 },
 "nbformat": 4,
 "nbformat_minor": 5
}

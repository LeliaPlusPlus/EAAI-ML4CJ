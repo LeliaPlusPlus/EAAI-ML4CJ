{
 "cells": [
  {
   "cell_type": "markdown",
   "id": "a730b2b0-34bf-4347-aeaa-d378ca3b7799",
   "metadata": {},
   "source": [
    "# Modeling\n",
    "\n",
    "In this notebook, we model the urban heat island effect given information related demographics and the environment. We test the performance of our model, including dissecting performance across demographics. We then interpret our model to derive insights about disparities in urban heat islands."
   ]
  },
  {
   "cell_type": "code",
   "execution_count": null,
   "id": "7d69935b-ac2a-4c18-a46d-f786f9d4e97c",
   "metadata": {},
   "outputs": [],
   "source": [
    "import pandas as pd\n",
    "import numpy as np\n",
    "import matplotlib.pyplot as plt\n",
    "from sklearn.metrics import r2_score, mean_squared_error\n",
    "from sklearn.inspection import permutation_importance, PartialDependenceDisplay\n",
    "from sklearn.model_selection import train_test_split\n",
    "import shap\n",
    "# import requisite tree library\n",
    "# import hyperparameter tuning library, if necessary\n",
    "\n",
    "pd.set_option('display.max_columns', None)\n",
    "pd.set_option('display.max_rows', None)"
   ]
  },
  {
   "cell_type": "markdown",
   "id": "50023559-6882-47fc-9a80-a138f595d649",
   "metadata": {},
   "source": [
    "## Data Pre-processing\n",
    "\n",
    "BSA is black sky albedo, which tends to increases with SUHII. NDBI is normalized difference built-up index. NDVI is normalized difference vegetation index. Spatial lag is the average SUHII in a given urban area, minus the point of interest."
   ]
  },
  {
   "cell_type": "code",
   "execution_count": null,
   "id": "4345be45-5912-4ea8-908e-dd767a85e573",
   "metadata": {},
   "outputs": [],
   "source": [
    "features = ['Black', 'Hispanic', 'White', 'Below Poverty', \n",
    "            'Population Density', 'BSA', \n",
    "            'NDBI', 'NDVI', 'Spatial Lag']\n",
    "label = 'UHI'"
   ]
  },
  {
   "cell_type": "code",
   "execution_count": null,
   "id": "04b8d552-b5db-43ca-b247-c8a590c775ec",
   "metadata": {},
   "outputs": [],
   "source": [
    "data = pd.read_csv('data.csv', usecols=features+[label])"
   ]
  },
  {
   "cell_type": "code",
   "execution_count": null,
   "id": "69bd65c2-25a0-4fdf-9d5e-e20c6d6ceaf9",
   "metadata": {},
   "outputs": [],
   "source": [
    "pd.DataFrame({'Total Missing': data.isna().sum(), \n",
    "              'Percent Missing': (data.isna().sum() / len(data)) * 100 })"
   ]
  },
  {
   "cell_type": "code",
   "execution_count": null,
   "id": "627e3f3d-d174-48dd-baca-e0396c58166b",
   "metadata": {},
   "outputs": [],
   "source": [
    "# We can drop the missing values or interpolate\n",
    "data = data.interpolate(method='nearest')"
   ]
  },
  {
   "cell_type": "markdown",
   "id": "fe2bfc0d-9c29-4a80-b3be-ef6f2d239ba8",
   "metadata": {},
   "source": [
    "## Model Training\n",
    "\n",
    "Train your model below."
   ]
  },
  {
   "cell_type": "code",
   "execution_count": null,
   "id": "9510cd9b-71e9-41a0-8e3d-208ba59669d8",
   "metadata": {},
   "outputs": [],
   "source": []
  },
  {
   "cell_type": "markdown",
   "id": "299ebdfd-b2e4-45b5-86ac-be41d07a1c68",
   "metadata": {},
   "source": [
    "## Model Performance\n",
    "\n",
    "Compute the RMSE and $R^2$ of your model. Compute the residuals of your model. Create a scatter plot of the residuals by race and poverty status."
   ]
  },
  {
   "cell_type": "code",
   "execution_count": null,
   "id": "170343a0-ca35-4f86-a1a7-671553e470a9",
   "metadata": {},
   "outputs": [],
   "source": []
  },
  {
   "cell_type": "markdown",
   "id": "eb10faa2-86fc-4752-8a02-c45391c2bce6",
   "metadata": {},
   "source": [
    "### Discussion: Model Performance\n",
    "\n",
    "Based on the RMSE, how did the model perform? Based on the R2, how well did the model fit the data? How does model performance impact your communication of the model to your team? How did model performance vary across groups? Discuss your findings."
   ]
  },
  {
   "cell_type": "markdown",
   "id": "530dc8a7-d9f8-4075-9bd3-c142a1d38061",
   "metadata": {},
   "source": [
    "**Answer:**"
   ]
  },
  {
   "cell_type": "markdown",
   "id": "2d734725-0e41-4bf6-bf55-6284be0f462f",
   "metadata": {},
   "source": [
    "## Model Interpretation\n",
    "\n",
    "Here, we concentrate on the SHAP values. Feel free to visualize feature importance, permutation importance, and partial dependence plots (PDPs) as well. PDPs may be produced through the traditional mechanism or via SHAP values."
   ]
  },
  {
   "cell_type": "markdown",
   "id": "80c0708e-a563-4415-9d3c-d352faba1b0a",
   "metadata": {},
   "source": [
    "### SHAP Values"
   ]
  },
  {
   "cell_type": "markdown",
   "id": "57b8bac6-746b-4e54-89ab-5dcda95ba021",
   "metadata": {},
   "source": [
    "Compute the SHAP values. Create a SHAP bar and beeswarm plot. Create SHAP scatter plots by race and poverty with a heatmap to account for environmental factors."
   ]
  },
  {
   "cell_type": "code",
   "execution_count": null,
   "id": "456fc304-f263-4152-a037-c64059041a17",
   "metadata": {},
   "outputs": [],
   "source": []
  },
  {
   "cell_type": "markdown",
   "id": "2f657265-69a1-4f12-aa35-8c3a478af078",
   "metadata": {},
   "source": [
    "### Discussion: SHAP Values\n",
    "\n",
    "According to the SHAP values, which features are the most predictive of SUHII? If you computed permutation importance on the test set, compare with SHAP. According to the SHAP scatter plot, how does race and poverty vary with SUHII with respect to environmental factors? What did you expect, and are these results different?"
   ]
  },
  {
   "cell_type": "markdown",
   "id": "90f76c85-99c8-4488-8c72-7ce358af4010",
   "metadata": {},
   "source": [
    "**Answer:**"
   ]
  },
  {
   "cell_type": "code",
   "execution_count": null,
   "id": "70555893-715f-458d-86d8-f829f33e0c57",
   "metadata": {},
   "outputs": [],
   "source": []
  }
 ],
 "metadata": {
  "kernelspec": {
   "display_name": "Python 3",
   "language": "python",
   "name": "python3"
  },
  "language_info": {
   "codemirror_mode": {
    "name": "ipython",
    "version": 3
   },
   "file_extension": ".py",
   "mimetype": "text/x-python",
   "name": "python",
   "nbconvert_exporter": "python",
   "pygments_lexer": "ipython3",
   "version": "3.8.8"
  }
 },
 "nbformat": 4,
 "nbformat_minor": 5
}
